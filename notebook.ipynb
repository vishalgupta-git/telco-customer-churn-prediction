{
 "cells": [
  {
   "cell_type": "code",
   "execution_count": null,
   "id": "f673f68c",
   "metadata": {
    "vscode": {
     "languageId": "plaintext"
    }
   },
   "outputs": [],
   "source": [
    "import kaggle\n",
    "import pandas as pandas"
   ]
  },
  {
   "cell_type": "code",
   "execution_count": null,
   "id": "cfc3c8eb",
   "metadata": {
    "vscode": {
     "languageId": "plaintext"
    }
   },
   "outputs": [],
   "source": [
    "kaggle.api.authenticate()\n",
    "kaggle.api"
   ]
  }
 ],
 "metadata": {
  "language_info": {
   "name": "python"
  }
 },
 "nbformat": 4,
 "nbformat_minor": 5
}
